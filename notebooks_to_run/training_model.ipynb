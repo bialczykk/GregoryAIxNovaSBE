{
 "cells": [
  {
   "cell_type": "markdown",
   "metadata": {},
   "source": [
    "# **Training Notebook (NovaSBE X GregoryAI)**"
   ]
  },
  {
   "cell_type": "markdown",
   "metadata": {},
   "source": [
    "![Description of the image](../images/train_tune_pipeline_diagram.png)"
   ]
  },
  {
   "cell_type": "markdown",
   "metadata": {},
   "source": [
    "## 1. Import libraries"
   ]
  },
  {
   "cell_type": "code",
   "execution_count": 1,
   "metadata": {},
   "outputs": [],
   "source": [
    "import os\n",
    "import sys\n",
    "import pandas as pd\n",
    "import numpy as np\n",
    "from sklearn.model_selection import train_test_split\n",
    "from datetime import datetime\n",
    "import warnings\n",
    "\n",
    "#supress warnings\n",
    "warnings.filterwarnings(\"ignore\")\n",
    "\n",
    "# Add the parent directory of code_utils to the Python path\n",
    "sys.path.append(os.path.abspath(os.path.join('..')))\n",
    "\n",
    "from code_utils.text_utils import *  # Import everything from text_utils.py\n",
    "from code_utils.model_utils.LSTM_algorithm_utils import *  \n",
    "from code_utils.model_utils.BERT_algorithm_utils import *  \n",
    "from code_utils.model_utils.LGBM_algorithm_utils import *  \n",
    "from code_utils.model_utils.classify_model_choose import *\n",
    "from code_utils.download_utils import * \n",
    "from code_utils.pseudo_utils.utils_pseudo import *\n",
    "from code_utils.summarization_utils import *"
   ]
  },
  {
   "cell_type": "markdown",
   "metadata": {},
   "source": [
    "## 3. Clean and Preprocess"
   ]
  },
  {
   "cell_type": "code",
   "execution_count": 2,
   "metadata": {},
   "outputs": [
    {
     "data": {
      "text/html": [
       "<div>\n",
       "<style scoped>\n",
       "    .dataframe tbody tr th:only-of-type {\n",
       "        vertical-align: middle;\n",
       "    }\n",
       "\n",
       "    .dataframe tbody tr th {\n",
       "        vertical-align: top;\n",
       "    }\n",
       "\n",
       "    .dataframe thead th {\n",
       "        text-align: right;\n",
       "    }\n",
       "</style>\n",
       "<table border=\"1\" class=\"dataframe\">\n",
       "  <thead>\n",
       "    <tr style=\"text-align: right;\">\n",
       "      <th></th>\n",
       "      <th>text_processed</th>\n",
       "      <th>relevant</th>\n",
       "    </tr>\n",
       "  </thead>\n",
       "  <tbody>\n",
       "    <tr>\n",
       "      <th>0</th>\n",
       "      <td>covid19 hhv6 mog antibody perfect storm j neur...</td>\n",
       "      <td>0</td>\n",
       "    </tr>\n",
       "    <tr>\n",
       "      <th>1</th>\n",
       "      <td>migraine associated brain anatomical alteratio...</td>\n",
       "      <td>0</td>\n",
       "    </tr>\n",
       "    <tr>\n",
       "      <th>2</th>\n",
       "      <td>patient satisfaction quality counseling provid...</td>\n",
       "      <td>0</td>\n",
       "    </tr>\n",
       "    <tr>\n",
       "      <th>3</th>\n",
       "      <td>rare case spinal neurosarcoidosis concomitant ...</td>\n",
       "      <td>unlabeled</td>\n",
       "    </tr>\n",
       "    <tr>\n",
       "      <th>4</th>\n",
       "      <td>evaluation urinary tract infection following c...</td>\n",
       "      <td>0</td>\n",
       "    </tr>\n",
       "  </tbody>\n",
       "</table>\n",
       "</div>"
      ],
      "text/plain": [
       "                                      text_processed   relevant\n",
       "0  covid19 hhv6 mog antibody perfect storm j neur...          0\n",
       "1  migraine associated brain anatomical alteratio...          0\n",
       "2  patient satisfaction quality counseling provid...          0\n",
       "3  rare case spinal neurosarcoidosis concomitant ...  unlabeled\n",
       "4  evaluation urinary tract infection following c...          0"
      ]
     },
     "execution_count": 2,
     "metadata": {},
     "output_type": "execute_result"
    }
   ],
   "source": [
    "dataset_path = os.path.join('../data/articles_08-06-2024_14h13m04s.csv')\n",
    "# additional step to ensure consistency in the index column formating as article_id\n",
    "articles_df = pd.read_csv(dataset_path)\n",
    "\n",
    "# if the first column is not article_id, remove that first column\n",
    "\n",
    "if articles_df.columns[0] != 'article_id':\n",
    "    articles_df = articles_df.drop(columns=articles_df.columns[0])\n",
    "\n",
    "articles_clean_df = load_and_format_dataset(dataset_path, text_cleaning_pd_series)\n",
    "\n",
    "articles_clean_df.head()"
   ]
  },
  {
   "cell_type": "code",
   "execution_count": 3,
   "metadata": {},
   "outputs": [
    {
     "data": {
      "text/plain": [
       "relevant\n",
       "unlabeled    22050\n",
       "0             1532\n",
       "1             1008\n",
       "Name: count, dtype: int64"
      ]
     },
     "execution_count": 3,
     "metadata": {},
     "output_type": "execute_result"
    }
   ],
   "source": [
    "articles_clean_df.relevant.value_counts()"
   ]
  },
  {
   "cell_type": "markdown",
   "metadata": {},
   "source": [
    "## 4. Data Split into train, validation and test sets"
   ]
  },
  {
   "cell_type": "code",
   "execution_count": 8,
   "metadata": {},
   "outputs": [],
   "source": [
    "# let's divide thr articles_clean_df into labelled and unlabelled data\n",
    "\n",
    "unlabelled_df = articles_clean_df[articles_clean_df.relevant == 'unlabeled']\n",
    "labelled_df = articles_clean_df[articles_clean_df.relevant != 'unlabeled']"
   ]
  },
  {
   "cell_type": "code",
   "execution_count": 9,
   "metadata": {},
   "outputs": [
    {
     "name": "stdout",
     "output_type": "stream",
     "text": [
      "Train set distribution:\n",
      "relevant\n",
      "0    0.603264\n",
      "1    0.396736\n",
      "Name: proportion, dtype: float64\n",
      "\n",
      "Validation set distribution:\n",
      "relevant\n",
      "0    0.602094\n",
      "1    0.397906\n",
      "Name: proportion, dtype: float64\n",
      "\n",
      "Test set distribution:\n",
      "relevant\n",
      "0    0.603675\n",
      "1    0.396325\n",
      "Name: proportion, dtype: float64\n",
      "Number of articles in the training set: 1777\n",
      "Number of articles in the validation set: 382\n",
      "Number of articles in the test set: 381\n"
     ]
    }
   ],
   "source": [
    "relevant_column = 'relevant'\n",
    "\n",
    "# First split: 85% train_val and 15% test\n",
    "train_val_df, test_df = train_test_split(\n",
    "    labelled_df,\n",
    "    test_size=0.15,\n",
    "    stratify=labelled_df[relevant_column],\n",
    "    random_state=69\n",
    ")\n",
    "\n",
    "# Second split: ~88.235% train and ~11.765% val from train_val_df\n",
    "train_df, val_df = train_test_split(\n",
    "    train_val_df,\n",
    "    test_size=0.1765,  # 0.1765 * 0.85 ≈ 0.15 of the original dataset\n",
    "    stratify=train_val_df[relevant_column],\n",
    "    random_state=69\n",
    ")\n",
    "\n",
    "# Verifying the splits\n",
    "print(\"Train set distribution:\")\n",
    "print(train_df[relevant_column].value_counts(normalize=True))\n",
    "print(\"\\nValidation set distribution:\")\n",
    "print(val_df[relevant_column].value_counts(normalize=True))\n",
    "print(\"\\nTest set distribution:\")\n",
    "print(test_df[relevant_column].value_counts(normalize=True))\n",
    "\n",
    "# Check the number of articles in each set\n",
    "print(f\"Number of articles in the training set: {len(train_df)}\")\n",
    "print(f\"Number of articles in the validation set: {len(val_df)}\")\n",
    "print(f\"Number of articles in the test set: {len(test_df)}\")\n"
   ]
  },
  {
   "cell_type": "markdown",
   "metadata": {},
   "source": [
    "## 5. Pseudo Labelling"
   ]
  },
  {
   "cell_type": "markdown",
   "metadata": {},
   "source": [
    "Here you may choose to perform the Pseudo-Labelling task: \n",
    "\n",
    "Self-Training with a Traditional ML model (in this example we have LogisticRegression but you can test with others) \n",
    "\n",
    "Co-training approach (that is a diferent type of pseudolabelling that uses a combination of two traditional machine learning models), \n",
    "\n",
    "Or the BERT model uncased.\n",
    "\n",
    "Our recomendation, to achieve best results, is BERT, but we understand it can be computer intensive and tricky to run.\n",
    "Below you have the different sections for the different approaches."
   ]
  },
  {
   "cell_type": "markdown",
   "metadata": {},
   "source": [
    "### 5.1 Using BERT"
   ]
  },
  {
   "cell_type": "markdown",
   "metadata": {},
   "source": [
    "First, let's check the distribution of the token length of the articles texts. By doing this we can check what's the optimal maximum lenght to use as a BERT parameter."
   ]
  },
  {
   "cell_type": "code",
   "execution_count": 20,
   "metadata": {},
   "outputs": [
    {
     "name": "stderr",
     "output_type": "stream",
     "text": [
      "Some weights of the PyTorch model were not used when initializing the TF 2.0 model TFBertModel: ['cls.seq_relationship.weight', 'cls.predictions.transform.dense.bias', 'cls.predictions.decoder.weight', 'cls.predictions.transform.dense.weight', 'cls.seq_relationship.bias', 'cls.predictions.decoder.bias', 'cls.predictions.transform.LayerNorm.bias', 'cls.predictions.bias', 'cls.predictions.transform.LayerNorm.weight']\n",
      "- This IS expected if you are initializing TFBertModel from a PyTorch model trained on another task or with another architecture (e.g. initializing a TFBertForSequenceClassification model from a BertForPreTraining model).\n",
      "- This IS NOT expected if you are initializing TFBertModel from a PyTorch model that you expect to be exactly identical (e.g. initializing a TFBertForSequenceClassification model from a BertForSequenceClassification model).\n",
      "All the weights of TFBertModel were initialized from the PyTorch model.\n",
      "If your task is similar to the task the model of the checkpoint was trained on, you can already use TFBertModel for predictions without further training.\n"
     ]
    },
    {
     "data": {
      "image/png": "[encoded data removed]",
      "text/plain": [
       "<Figure size 1800x600 with 3 Axes>"
      ]
     },
     "metadata": {},
     "output_type": "display_data"
    },
    {
     "name": "stdout",
     "output_type": "stream",
     "text": [
      "Training Dataset Token Length Distribution:\n",
      "length_category\n",
      "0-200        1381\n",
      "200-400       387\n",
      "400-600         5\n",
      "600-800         0\n",
      "800-1000        1\n",
      "1000-1200       0\n",
      "1200+           3\n",
      "Name: count, dtype: int64\n",
      "\n",
      "Validation Dataset Token Length Distribution:\n",
      "length_category\n",
      "0-200        303\n",
      "200-400       78\n",
      "400-600        0\n",
      "600-800        0\n",
      "800-1000       0\n",
      "1000-1200      0\n",
      "1200+          1\n",
      "Name: count, dtype: int64\n",
      "\n",
      "Test Dataset Token Length Distribution:\n",
      "length_category\n",
      "0-200        294\n",
      "200-400       84\n",
      "400-600        2\n",
      "600-800        1\n",
      "800-1000       0\n",
      "1000-1200      0\n",
      "1200+          0\n",
      "Name: count, dtype: int64\n"
     ]
    }
   ],
   "source": [
    "# initialize the BERT classifier\n",
    "bert_classifier_pseudo = BERT_Classifier()\n",
    "\n",
    "# use the dedicated function to calulate the token lenghts distribution\n",
    "bert_classifier_pseudo.calculate_and_plot_token_lengths(train_df, val_df, test_df)"
   ]
  },
  {
   "cell_type": "markdown",
   "metadata": {},
   "source": [
    "From the results of the distribution analysis we can see that 400 for max_len would be the optimal value. Since that would be a high computational demanding value, instead to set the max_len to a lower value, truncating, and resking leaving out valuable information, there's also the solution of performing a summarization of the text sequences (this way hopefully retaining a higher degree of information).\n",
    "\n",
    "We leave that option here, in the cell below, in case the user wants to test this alternative, instead of simple truncation. \n",
    "\n",
    "We warn, however, that this process should take several hours to summarize every article text, and can be computational intensive since it uses the potetialities of transformers library.\n",
    "Based on an experiment we performed, summarizing the text for 6000 articles, took 2 hours. So, the summarization of something like 25000 text inputs would take several hours, always depending on the resources of the machine used, off course."
   ]
  },
  {
   "cell_type": "markdown",
   "metadata": {},
   "source": [
    "### 5.1.1 With Summarization Option"
   ]
  },
  {
   "cell_type": "code",
   "execution_count": null,
   "metadata": {},
   "outputs": [],
   "source": [
    "# Using the dedicated function we developed to summarize the texts\n",
    "\n",
    "# we keep all parameters as default values, but you can change them if you want\n",
    "text_summarization(train_df)\n",
    "text_summarization(val_df)\n",
    "text_summarization(test_df)\n",
    "\n",
    "# See results, comparing the original text with the summary\n",
    "print(train_df[['text_processed', 'summary']].head())\n",
    "print(val_df[['text_processed', 'summary']].head())\n",
    "print(test_df[['text_processed', 'summary']].head())\n",
    "\n",
    "# [WARNING] This step can take several hourse to run"
   ]
  },
  {
   "cell_type": "markdown",
   "metadata": {},
   "source": [
    "### 5.1.1 Without Summarization Option"
   ]
  },
  {
   "cell_type": "code",
   "execution_count": 10,
   "metadata": {},
   "outputs": [],
   "source": [
    "# choose max_lenght for BERT\n",
    "\n",
    "max_len = 128 # optimal would be 400, but 128 chosen for computational reasons"
   ]
  },
  {
   "cell_type": "code",
   "execution_count": 11,
   "metadata": {},
   "outputs": [],
   "source": [
    "tokenizer = BertTokenizer.from_pretrained('bert-base-uncased')"
   ]
  },
  {
   "cell_type": "code",
   "execution_count": 12,
   "metadata": {},
   "outputs": [
    {
     "name": "stderr",
     "output_type": "stream",
     "text": [
      "Some weights of the PyTorch model were not used when initializing the TF 2.0 model TFBertModel: ['cls.predictions.transform.dense.weight', 'cls.seq_relationship.weight', 'cls.predictions.transform.dense.bias', 'cls.seq_relationship.bias', 'cls.predictions.bias', 'cls.predictions.transform.LayerNorm.weight', 'cls.predictions.transform.LayerNorm.bias']\n",
      "- This IS expected if you are initializing TFBertModel from a PyTorch model trained on another task or with another architecture (e.g. initializing a TFBertForSequenceClassification model from a BertForPreTraining model).\n",
      "- This IS NOT expected if you are initializing TFBertModel from a PyTorch model that you expect to be exactly identical (e.g. initializing a TFBertForSequenceClassification model from a BertForSequenceClassification model).\n",
      "All the weights of TFBertModel were initialized from the PyTorch model.\n",
      "If your task is similar to the task the model of the checkpoint was trained on, you can already use TFBertModel for predictions without further training.\n"
     ]
    },
    {
     "name": "stdout",
     "output_type": "stream",
     "text": [
      "Epoch 1/8\n",
      "112/112 - 43s - loss: 0.4646 - accuracy: 0.7845 - val_loss: 0.3901 - val_accuracy: 0.8220 - 43s/epoch - 382ms/step\n",
      "Epoch 2/8\n",
      "112/112 - 27s - loss: 0.2900 - accuracy: 0.8863 - val_loss: 0.3967 - val_accuracy: 0.8351 - 27s/epoch - 237ms/step\n",
      "Epoch 3/8\n",
      "112/112 - 27s - loss: 0.2167 - accuracy: 0.9178 - val_loss: 0.2715 - val_accuracy: 0.8927 - 27s/epoch - 239ms/step\n",
      "Epoch 4/8\n",
      "112/112 - 27s - loss: 0.1489 - accuracy: 0.9527 - val_loss: 0.3021 - val_accuracy: 0.9058 - 27s/epoch - 240ms/step\n",
      "Epoch 5/8\n",
      "112/112 - 27s - loss: 0.1076 - accuracy: 0.9657 - val_loss: 0.3429 - val_accuracy: 0.8927 - 27s/epoch - 241ms/step\n",
      "Epoch 6/8\n",
      "112/112 - 27s - loss: 0.0879 - accuracy: 0.9752 - val_loss: 0.3293 - val_accuracy: 0.8953 - 27s/epoch - 240ms/step\n",
      "690/690 [==============================] - 96s 135ms/step\n"
     ]
    },
    {
     "name": "stderr",
     "output_type": "stream",
     "text": [
      "Some weights of the PyTorch model were not used when initializing the TF 2.0 model TFBertModel: ['cls.predictions.transform.dense.weight', 'cls.seq_relationship.weight', 'cls.predictions.transform.dense.bias', 'cls.seq_relationship.bias', 'cls.predictions.bias', 'cls.predictions.transform.LayerNorm.weight', 'cls.predictions.transform.LayerNorm.bias']\n",
      "- This IS expected if you are initializing TFBertModel from a PyTorch model trained on another task or with another architecture (e.g. initializing a TFBertForSequenceClassification model from a BertForPreTraining model).\n",
      "- This IS NOT expected if you are initializing TFBertModel from a PyTorch model that you expect to be exactly identical (e.g. initializing a TFBertForSequenceClassification model from a BertForSequenceClassification model).\n",
      "All the weights of TFBertModel were initialized from the PyTorch model.\n",
      "If your task is similar to the task the model of the checkpoint was trained on, you can already use TFBertModel for predictions without further training.\n"
     ]
    },
    {
     "name": "stdout",
     "output_type": "stream",
     "text": [
      "Epoch 1/8\n",
      "1204/1204 - 286s - loss: 0.1736 - accuracy: 0.9310 - val_loss: 0.3657 - val_accuracy: 0.8796 - 286s/epoch - 238ms/step\n",
      "Epoch 2/8\n",
      "1204/1204 - 272s - loss: 0.0697 - accuracy: 0.9767 - val_loss: 0.4538 - val_accuracy: 0.8770 - 272s/epoch - 226ms/step\n",
      "Epoch 3/8\n",
      "1204/1204 - 273s - loss: 0.0416 - accuracy: 0.9864 - val_loss: 0.4145 - val_accuracy: 0.8953 - 273s/epoch - 227ms/step\n",
      "Epoch 4/8\n",
      "1204/1204 - 273s - loss: 0.0331 - accuracy: 0.9888 - val_loss: 0.4652 - val_accuracy: 0.8927 - 273s/epoch - 226ms/step\n",
      "143/143 [==============================] - 22s 135ms/step\n"
     ]
    },
    {
     "name": "stderr",
     "output_type": "stream",
     "text": [
      "Some weights of the PyTorch model were not used when initializing the TF 2.0 model TFBertModel: ['cls.predictions.transform.dense.weight', 'cls.seq_relationship.weight', 'cls.predictions.transform.dense.bias', 'cls.seq_relationship.bias', 'cls.predictions.bias', 'cls.predictions.transform.LayerNorm.weight', 'cls.predictions.transform.LayerNorm.bias']\n",
      "- This IS expected if you are initializing TFBertModel from a PyTorch model trained on another task or with another architecture (e.g. initializing a TFBertForSequenceClassification model from a BertForPreTraining model).\n",
      "- This IS NOT expected if you are initializing TFBertModel from a PyTorch model that you expect to be exactly identical (e.g. initializing a TFBertForSequenceClassification model from a BertForSequenceClassification model).\n",
      "All the weights of TFBertModel were initialized from the PyTorch model.\n",
      "If your task is similar to the task the model of the checkpoint was trained on, you can already use TFBertModel for predictions without further training.\n"
     ]
    },
    {
     "name": "stdout",
     "output_type": "stream",
     "text": [
      "Epoch 1/8\n",
      "1380/1380 - 327s - loss: 0.2078 - accuracy: 0.9110 - val_loss: 0.3493 - val_accuracy: 0.8874 - 327s/epoch - 237ms/step\n",
      "Epoch 2/8\n",
      "1380/1380 - 312s - loss: 0.0916 - accuracy: 0.9656 - val_loss: 0.3771 - val_accuracy: 0.9110 - 312s/epoch - 226ms/step\n",
      "Epoch 3/8\n",
      "1380/1380 - 313s - loss: 0.0594 - accuracy: 0.9787 - val_loss: 0.3564 - val_accuracy: 0.9058 - 313s/epoch - 227ms/step\n",
      "Epoch 4/8\n",
      "1380/1380 - 313s - loss: 0.0377 - accuracy: 0.9873 - val_loss: 0.4848 - val_accuracy: 0.9084 - 313s/epoch - 227ms/step\n",
      "55/55 [==============================] - 10s 136ms/step\n"
     ]
    },
    {
     "name": "stderr",
     "output_type": "stream",
     "text": [
      "Some weights of the PyTorch model were not used when initializing the TF 2.0 model TFBertModel: ['cls.predictions.transform.dense.weight', 'cls.seq_relationship.weight', 'cls.predictions.transform.dense.bias', 'cls.seq_relationship.bias', 'cls.predictions.bias', 'cls.predictions.transform.LayerNorm.weight', 'cls.predictions.transform.LayerNorm.bias']\n",
      "- This IS expected if you are initializing TFBertModel from a PyTorch model trained on another task or with another architecture (e.g. initializing a TFBertForSequenceClassification model from a BertForPreTraining model).\n",
      "- This IS NOT expected if you are initializing TFBertModel from a PyTorch model that you expect to be exactly identical (e.g. initializing a TFBertForSequenceClassification model from a BertForSequenceClassification model).\n",
      "All the weights of TFBertModel were initialized from the PyTorch model.\n",
      "If your task is similar to the task the model of the checkpoint was trained on, you can already use TFBertModel for predictions without further training.\n"
     ]
    },
    {
     "name": "stdout",
     "output_type": "stream",
     "text": [
      "Epoch 1/8\n",
      "1448/1448 - 342s - loss: 0.2314 - accuracy: 0.8980 - val_loss: 0.4380 - val_accuracy: 0.8822 - 342s/epoch - 236ms/step\n",
      "Epoch 2/8\n",
      "1448/1448 - 327s - loss: 0.1100 - accuracy: 0.9578 - val_loss: 0.3847 - val_accuracy: 0.8979 - 327s/epoch - 226ms/step\n",
      "Epoch 3/8\n",
      "1448/1448 - 328s - loss: 0.0658 - accuracy: 0.9767 - val_loss: 0.4794 - val_accuracy: 0.8953 - 328s/epoch - 227ms/step\n",
      "Epoch 4/8\n",
      "1448/1448 - 328s - loss: 0.0436 - accuracy: 0.9850 - val_loss: 0.4613 - val_accuracy: 0.9005 - 328s/epoch - 227ms/step\n",
      "Epoch 5/8\n",
      "1448/1448 - 328s - loss: 0.0357 - accuracy: 0.9867 - val_loss: 0.4866 - val_accuracy: 0.8953 - 328s/epoch - 226ms/step\n",
      "21/21 [==============================] - 6s 137ms/step\n"
     ]
    },
    {
     "name": "stderr",
     "output_type": "stream",
     "text": [
      "Some weights of the PyTorch model were not used when initializing the TF 2.0 model TFBertModel: ['cls.predictions.transform.dense.weight', 'cls.seq_relationship.weight', 'cls.predictions.transform.dense.bias', 'cls.seq_relationship.bias', 'cls.predictions.bias', 'cls.predictions.transform.LayerNorm.weight', 'cls.predictions.transform.LayerNorm.bias']\n",
      "- This IS expected if you are initializing TFBertModel from a PyTorch model trained on another task or with another architecture (e.g. initializing a TFBertForSequenceClassification model from a BertForPreTraining model).\n",
      "- This IS NOT expected if you are initializing TFBertModel from a PyTorch model that you expect to be exactly identical (e.g. initializing a TFBertForSequenceClassification model from a BertForSequenceClassification model).\n",
      "All the weights of TFBertModel were initialized from the PyTorch model.\n",
      "If your task is similar to the task the model of the checkpoint was trained on, you can already use TFBertModel for predictions without further training.\n"
     ]
    },
    {
     "name": "stdout",
     "output_type": "stream",
     "text": [
      "Epoch 1/8\n",
      "1474/1474 - 349s - loss: 0.2353 - accuracy: 0.8993 - val_loss: 0.3803 - val_accuracy: 0.8901 - 349s/epoch - 237ms/step\n",
      "Epoch 2/8\n",
      "1474/1474 - 334s - loss: 0.1129 - accuracy: 0.9574 - val_loss: 0.4181 - val_accuracy: 0.8953 - 334s/epoch - 226ms/step\n",
      "Epoch 3/8\n",
      "1474/1474 - 335s - loss: 0.0660 - accuracy: 0.9765 - val_loss: 0.4550 - val_accuracy: 0.9031 - 335s/epoch - 228ms/step\n",
      "Epoch 4/8\n",
      "1474/1474 - 334s - loss: 0.0464 - accuracy: 0.9839 - val_loss: 0.4861 - val_accuracy: 0.9031 - 334s/epoch - 227ms/step\n",
      "8/8 [==============================] - 2s 152ms/step\n"
     ]
    },
    {
     "name": "stderr",
     "output_type": "stream",
     "text": [
      "Some weights of the PyTorch model were not used when initializing the TF 2.0 model TFBertModel: ['cls.predictions.transform.dense.weight', 'cls.seq_relationship.weight', 'cls.predictions.transform.dense.bias', 'cls.seq_relationship.bias', 'cls.predictions.bias', 'cls.predictions.transform.LayerNorm.weight', 'cls.predictions.transform.LayerNorm.bias']\n",
      "- This IS expected if you are initializing TFBertModel from a PyTorch model trained on another task or with another architecture (e.g. initializing a TFBertForSequenceClassification model from a BertForPreTraining model).\n",
      "- This IS NOT expected if you are initializing TFBertModel from a PyTorch model that you expect to be exactly identical (e.g. initializing a TFBertForSequenceClassification model from a BertForSequenceClassification model).\n",
      "All the weights of TFBertModel were initialized from the PyTorch model.\n",
      "If your task is similar to the task the model of the checkpoint was trained on, you can already use TFBertModel for predictions without further training.\n"
     ]
    },
    {
     "name": "stdout",
     "output_type": "stream",
     "text": [
      "Epoch 1/8\n",
      "1482/1482 - 350s - loss: 0.2388 - accuracy: 0.8952 - val_loss: 0.3796 - val_accuracy: 0.8822 - 350s/epoch - 236ms/step\n",
      "Epoch 2/8\n",
      "1482/1482 - 336s - loss: 0.1156 - accuracy: 0.9549 - val_loss: 0.4122 - val_accuracy: 0.8979 - 336s/epoch - 227ms/step\n",
      "Epoch 3/8\n",
      "1482/1482 - 336s - loss: 0.0675 - accuracy: 0.9754 - val_loss: 0.4633 - val_accuracy: 0.8979 - 336s/epoch - 227ms/step\n",
      "Epoch 4/8\n",
      "1482/1482 - 335s - loss: 0.0481 - accuracy: 0.9829 - val_loss: 0.4835 - val_accuracy: 0.8953 - 335s/epoch - 226ms/step\n",
      "4/4 [==============================] - 3s 139ms/step\n"
     ]
    },
    {
     "name": "stderr",
     "output_type": "stream",
     "text": [
      "Some weights of the PyTorch model were not used when initializing the TF 2.0 model TFBertModel: ['cls.predictions.transform.dense.weight', 'cls.seq_relationship.weight', 'cls.predictions.transform.dense.bias', 'cls.seq_relationship.bias', 'cls.predictions.bias', 'cls.predictions.transform.LayerNorm.weight', 'cls.predictions.transform.LayerNorm.bias']\n",
      "- This IS expected if you are initializing TFBertModel from a PyTorch model trained on another task or with another architecture (e.g. initializing a TFBertForSequenceClassification model from a BertForPreTraining model).\n",
      "- This IS NOT expected if you are initializing TFBertModel from a PyTorch model that you expect to be exactly identical (e.g. initializing a TFBertForSequenceClassification model from a BertForSequenceClassification model).\n",
      "All the weights of TFBertModel were initialized from the PyTorch model.\n",
      "If your task is similar to the task the model of the checkpoint was trained on, you can already use TFBertModel for predictions without further training.\n"
     ]
    },
    {
     "name": "stdout",
     "output_type": "stream",
     "text": [
      "Epoch 1/8\n",
      "1484/1484 - 350s - loss: 0.2453 - accuracy: 0.8930 - val_loss: 0.3979 - val_accuracy: 0.8979 - 350s/epoch - 236ms/step\n",
      "Epoch 2/8\n",
      "1484/1484 - 335s - loss: 0.1212 - accuracy: 0.9522 - val_loss: 0.4107 - val_accuracy: 0.8848 - 335s/epoch - 226ms/step\n",
      "Epoch 3/8\n",
      "1484/1484 - 337s - loss: 0.0708 - accuracy: 0.9744 - val_loss: 0.4468 - val_accuracy: 0.8979 - 337s/epoch - 227ms/step\n",
      "Epoch 4/8\n",
      "1484/1484 - 340s - loss: 0.0497 - accuracy: 0.9818 - val_loss: 0.4928 - val_accuracy: 0.9031 - 340s/epoch - 229ms/step\n",
      "3/3 [==============================] - 3s 133ms/step\n"
     ]
    },
    {
     "name": "stderr",
     "output_type": "stream",
     "text": [
      "WARNING:absl:Found untraced functions such as serving, embeddings_layer_call_fn, embeddings_layer_call_and_return_conditional_losses, encoder_layer_call_fn, encoder_layer_call_and_return_conditional_losses while saving (showing 5 of 421). These functions will not be directly callable after loading.\n"
     ]
    },
    {
     "name": "stdout",
     "output_type": "stream",
     "text": [
      "INFO:tensorflow:Assets written to: models\\pseudo_labelling\\pseudo_bert_model\\assets\n"
     ]
    },
    {
     "name": "stderr",
     "output_type": "stream",
     "text": [
      "INFO:tensorflow:Assets written to: models\\pseudo_labelling\\pseudo_bert_model\\assets\n"
     ]
    },
    {
     "name": "stdout",
     "output_type": "stream",
     "text": [
      "Model saved to models\\pseudo_labelling\\pseudo_bert_model\n",
      "Pseudo-labelled data saved to models\\pseudo_labelling\\pseudo_labels_bert.csv\n"
     ]
    }
   ],
   "source": [
    "labelled_train_df = train_df[['text_processed', 'relevant']]\n",
    "val_df_pseudo = val_df[['text_processed', 'relevant']]\n",
    "unlabelled_data_pseudo = unlabelled_df[['text_processed']]\n",
    "\n",
    "final_labelled_train_df = bert_iterative_training(tokenizer, \n",
    "                                                unlabelled_data_pseudo, \n",
    "                                                labelled_train_df, \n",
    "                                                val_df_pseudo, \n",
    "                                                dense_units=48, \n",
    "                                                learning_rate=1e-5, \n",
    "                                                max_len=max_len, \n",
    "                                                confidence_threshold=0.9, \n",
    "                                                max_iterations=7)"
   ]
  },
  {
   "cell_type": "code",
   "execution_count": 13,
   "metadata": {},
   "outputs": [
    {
     "data": {
      "text/html": [
       "<div>\n",
       "<style scoped>\n",
       "    .dataframe tbody tr th:only-of-type {\n",
       "        vertical-align: middle;\n",
       "    }\n",
       "\n",
       "    .dataframe tbody tr th {\n",
       "        vertical-align: top;\n",
       "    }\n",
       "\n",
       "    .dataframe thead th {\n",
       "        text-align: right;\n",
       "    }\n",
       "</style>\n",
       "<table border=\"1\" class=\"dataframe\">\n",
       "  <thead>\n",
       "    <tr style=\"text-align: right;\">\n",
       "      <th></th>\n",
       "      <th>text_processed</th>\n",
       "      <th>relevant</th>\n",
       "      <th>predicted_label</th>\n",
       "      <th>confidence</th>\n",
       "    </tr>\n",
       "  </thead>\n",
       "  <tbody>\n",
       "    <tr>\n",
       "      <th>11468</th>\n",
       "      <td>parthenolide suppresses helper 17 alleviates e...</td>\n",
       "      <td>1</td>\n",
       "      <td>NaN</td>\n",
       "      <td>NaN</td>\n",
       "    </tr>\n",
       "    <tr>\n",
       "      <th>23015</th>\n",
       "      <td>immunosuppressive effects two probiotics lacto...</td>\n",
       "      <td>1</td>\n",
       "      <td>NaN</td>\n",
       "      <td>NaN</td>\n",
       "    </tr>\n",
       "    <tr>\n",
       "      <th>5101</th>\n",
       "      <td>diagnosis alzheimers disease related dementia ...</td>\n",
       "      <td>0</td>\n",
       "      <td>NaN</td>\n",
       "      <td>NaN</td>\n",
       "    </tr>\n",
       "    <tr>\n",
       "      <th>5</th>\n",
       "      <td>therapeutic targets fingolimod fty720 involved...</td>\n",
       "      <td>0</td>\n",
       "      <td>NaN</td>\n",
       "      <td>NaN</td>\n",
       "    </tr>\n",
       "    <tr>\n",
       "      <th>2040</th>\n",
       "      <td>demyelination remyelination detected alternati...</td>\n",
       "      <td>1</td>\n",
       "      <td>NaN</td>\n",
       "      <td>NaN</td>\n",
       "    </tr>\n",
       "    <tr>\n",
       "      <th>...</th>\n",
       "      <td>...</td>\n",
       "      <td>...</td>\n",
       "      <td>...</td>\n",
       "      <td>...</td>\n",
       "    </tr>\n",
       "    <tr>\n",
       "      <th>23712</th>\n",
       "      <td>score predicts aquaporin4igg positivity patien...</td>\n",
       "      <td>1</td>\n",
       "      <td>1.0</td>\n",
       "      <td>0.979313</td>\n",
       "    </tr>\n",
       "    <tr>\n",
       "      <th>24455</th>\n",
       "      <td>applying multidimensional computerized adaptiv...</td>\n",
       "      <td>1</td>\n",
       "      <td>1.0</td>\n",
       "      <td>0.984439</td>\n",
       "    </tr>\n",
       "    <tr>\n",
       "      <th>24910</th>\n",
       "      <td>lipid microglial biology — material mediator a...</td>\n",
       "      <td>1</td>\n",
       "      <td>1.0</td>\n",
       "      <td>0.962632</td>\n",
       "    </tr>\n",
       "    <tr>\n",
       "      <th>25059</th>\n",
       "      <td>assisted ambulation improve health outcomes ol...</td>\n",
       "      <td>1</td>\n",
       "      <td>1.0</td>\n",
       "      <td>0.988540</td>\n",
       "    </tr>\n",
       "    <tr>\n",
       "      <th>25217</th>\n",
       "      <td>estimating disutility relapse relapsingremitti...</td>\n",
       "      <td>1</td>\n",
       "      <td>1.0</td>\n",
       "      <td>0.905079</td>\n",
       "    </tr>\n",
       "  </tbody>\n",
       "</table>\n",
       "<p>23779 rows × 4 columns</p>\n",
       "</div>"
      ],
      "text/plain": [
       "                                          text_processed relevant  \\\n",
       "11468  parthenolide suppresses helper 17 alleviates e...        1   \n",
       "23015  immunosuppressive effects two probiotics lacto...        1   \n",
       "5101   diagnosis alzheimers disease related dementia ...        0   \n",
       "5      therapeutic targets fingolimod fty720 involved...        0   \n",
       "2040   demyelination remyelination detected alternati...        1   \n",
       "...                                                  ...      ...   \n",
       "23712  score predicts aquaporin4igg positivity patien...        1   \n",
       "24455  applying multidimensional computerized adaptiv...        1   \n",
       "24910  lipid microglial biology — material mediator a...        1   \n",
       "25059  assisted ambulation improve health outcomes ol...        1   \n",
       "25217  estimating disutility relapse relapsingremitti...        1   \n",
       "\n",
       "       predicted_label  confidence  \n",
       "11468              NaN         NaN  \n",
       "23015              NaN         NaN  \n",
       "5101               NaN         NaN  \n",
       "5                  NaN         NaN  \n",
       "2040               NaN         NaN  \n",
       "...                ...         ...  \n",
       "23712              1.0    0.979313  \n",
       "24455              1.0    0.984439  \n",
       "24910              1.0    0.962632  \n",
       "25059              1.0    0.988540  \n",
       "25217              1.0    0.905079  \n",
       "\n",
       "[23779 rows x 4 columns]"
      ]
     },
     "execution_count": 13,
     "metadata": {},
     "output_type": "execute_result"
    }
   ],
   "source": [
    "final_labelled_train_df"
   ]
  },
  {
   "cell_type": "markdown",
   "metadata": {},
   "source": [
    "### 5.2 Using Traditional ML + vectorizer (Self-Training)"
   ]
  },
  {
   "cell_type": "markdown",
   "metadata": {},
   "source": [
    "### 5.3 Using Co-Training"
   ]
  },
  {
   "cell_type": "markdown",
   "metadata": {},
   "source": [
    "## 5. Train the Model and Store Model Weights"
   ]
  },
  {
   "cell_type": "markdown",
   "metadata": {},
   "source": [
    "Again, here you may choose from different options to train the data:\n",
    "\n",
    "1 - BERT (Pubmed)\n",
    "\n",
    "2 - LSTM\n",
    "\n",
    "3 - LGBM (Tfidf)\n",
    "\n",
    "Our recomendation, to achieve best results, is BERT again, but we understand it can be computer intensive and tricky to run.\n",
    "Below you have the different sections for the different approaches."
   ]
  },
  {
   "cell_type": "code",
   "execution_count": null,
   "metadata": {},
   "outputs": [],
   "source": [
    "# 1- BERT (Pubmed)\n",
    "# Create an instance of BERT_Classifier\n",
    "bert_classifier = BERT_Classifier(max_len=max_len,\n",
    "                                  bert_model_name='microsoft/BiomedNLP-BiomedBERT-base-uncased-abstract-fulltext',\n",
    "                                  best_learning_rate=2e-05,\n",
    "                                  best_dense_units=48,\n",
    "                                  best_freeze_weights=False,\n",
    "                                  metrics=['accuracy', Precision(name='precision'), Recall(name='recall'), AUC(name='auc')])\n",
    "\n",
    "# Encode the texts\n",
    "X_train_ids, X_train_masks = bert_classifier.encode_texts(final_labelled_train_df['text_processed'].values)\n",
    "X_val_ids, X_val_masks = bert_classifier.encode_texts(val_df['text_processed'].values)\n",
    "X_test_ids, X_test_masks = bert_classifier.encode_texts(test_df['text_processed'].values)\n",
    "\n",
    "# One-hot encode the labels\n",
    "y_train = to_categorical(train_df['relevant'], num_classes=2)\n",
    "y_val = to_categorical(val_df['relevant'], num_classes=2)\n",
    "y_test = to_categorical(test_df['relevant'], num_classes=2)\n",
    "\n",
    "# Train, plot, and evaluate the model\n",
    "model_registry = bert_classifier.train_plot_and_evaluate(train_inputs=[X_train_ids, X_train_masks],\n",
    "                                        train_labels=y_train,\n",
    "                                        val_inputs=[X_val_ids, X_val_masks],\n",
    "                                        val_labels=y_val,\n",
    "                                        test_inputs=[X_test_ids, X_test_masks],\n",
    "                                        test_labels=y_test,\n",
    "                                        epochs=10,\n",
    "                                        model_description=\"BERT (Pubmed) with pseudo-labelling\",\n",
    "                                        metrics_plot=['loss', 'accuracy'],\n",
    "                                        metrics_eval=['accuracy', Precision(name='precision'), Recall(name='recall'), AUC(name='auc')])\n",
    "\n",
    "# Save the model\n"
   ]
  },
  {
   "cell_type": "code",
   "execution_count": null,
   "metadata": {},
   "outputs": [],
   "source": [
    "# 2- LSTM\n",
    "# Create an instance of LSTM_Classifier\n"
   ]
  },
  {
   "cell_type": "markdown",
   "metadata": {},
   "source": [
    "## 6. Show Model Performance Results"
   ]
  },
  {
   "cell_type": "code",
   "execution_count": null,
   "metadata": {},
   "outputs": [],
   "source": []
  }
 ],
 "metadata": {
  "kernelspec": {
   "display_name": "gregoryai",
   "language": "python",
   "name": "python3"
  },
  "language_info": {
   "codemirror_mode": {
    "name": "ipython",
    "version": 3
   },
   "file_extension": ".py",
   "mimetype": "text/x-python",
   "name": "python",
   "nbconvert_exporter": "python",
   "pygments_lexer": "ipython3",
   "version": "3.10.14"
  }
 },
 "nbformat": 4,
 "nbformat_minor": 2
}
